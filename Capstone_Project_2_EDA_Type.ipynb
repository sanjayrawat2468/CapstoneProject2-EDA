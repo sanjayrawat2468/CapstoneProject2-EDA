{
  "nbformat": 4,
  "nbformat_minor": 0,
  "metadata": {
    "colab": {
      "private_outputs": true,
      "provenance": [],
      "collapsed_sections": [
        "vncDsAP0Gaoa",
        "FJNUwmbgGyua",
        "w6K7xa23Elo4",
        "yQaldy8SH6Dl",
        "mDgbUHAGgjLW",
        "O_i_v8NEhb9l",
        "HhfV-JJviCcP",
        "Y3lxredqlCYt",
        "3RnN4peoiCZX",
        "x71ZqKXriCWQ",
        "7hBIi_osiCS2",
        "JlHwYmJAmNHm",
        "35m5QtbWiB9F",
        "PoPl-ycgm1ru",
        "H0kj-8xxnORC",
        "nA9Y7ga8ng1Z",
        "PBTbrJXOngz2",
        "u3PMJOP6ngxN",
        "dauF4eBmngu3",
        "bKJF3rekwFvQ",
        "MSa1f5Uengrz",
        "GF8Ens_Soomf",
        "0wOQAZs5pc--",
        "K5QZ13OEpz2H",
        "lQ7QKXXCp7Bj",
        "448CDAPjqfQr",
        "KSlN3yHqYklG",
        "t6dVpIINYklI",
        "ijmpgYnKYklI",
        "-JiQyfWJYklI",
        "EM7whBJCYoAo",
        "fge-S5ZAYoAp",
        "85gYPyotYoAp",
        "RoGjAbkUYoAp",
        "4Of9eVA-YrdM",
        "iky9q4vBYrdO",
        "F6T5p64dYrdO",
        "y-Ehk30pYrdP",
        "bamQiAODYuh1",
        "QHF8YVU7Yuh3",
        "GwzvFGzlYuh3",
        "qYpmQ266Yuh3",
        "OH-pJp9IphqM",
        "bbFf2-_FphqN",
        "_ouA3fa0phqN",
        "Seke61FWphqN",
        "PIIx-8_IphqN",
        "t27r6nlMphqO",
        "r2jJGEOYphqO",
        "b0JNsNcRphqO",
        "BZR9WyysphqO",
        "jj7wYXLtphqO",
        "eZrbJ2SmphqO",
        "rFu4xreNphqO",
        "YJ55k-q6phqO",
        "gCFgpxoyphqP",
        "OVtJsKN_phqQ",
        "lssrdh5qphqQ",
        "U2RJ9gkRphqQ",
        "1M8mcRywphqQ",
        "tgIPom80phqQ",
        "JMzcOPDDphqR",
        "x-EpHcCOp1ci",
        "X_VqEhTip1ck",
        "8zGJKyg5p1ck",
        "PVzmfK_Ep1ck",
        "n3dbpmDWp1ck",
        "ylSl6qgtp1ck",
        "ZWILFDl5p1ck",
        "M7G43BXep1ck",
        "Ag9LCva-p1cl",
        "E6MkPsBcp1cl",
        "2cELzS2fp1cl",
        "3MPXvC8up1cl",
        "NC_X3p0fY2L0",
        "UV0SzAkaZNRQ",
        "YPEH6qLeZNRQ",
        "q29F0dvdveiT",
        "EXh0U9oCveiU",
        "22aHeOlLveiV",
        "g-ATYxFrGrvw",
        "Yfr_Vlr8HBkt",
        "8yEUt7NnHlrM",
        "tEA2Xm5dHt1r",
        "I79__PHVH19G",
        "Ou-I18pAyIpj",
        "fF3858GYyt-u",
        "4_0_7-oCpUZd",
        "hwyV_J3ipUZe",
        "3yB-zSqbpUZe",
        "dEUvejAfpUZe",
        "Fd15vwWVpUZf",
        "bn_IUdTipZyH",
        "49K5P_iCpZyH",
        "Nff-vKELpZyI",
        "kLW572S8pZyI",
        "dWbDXHzopZyI",
        "yLjJCtPM0KBk",
        "xiyOF9F70UgQ",
        "7wuGOrhz0itI",
        "id1riN9m0vUs",
        "578E2V7j08f6",
        "89xtkJwZ18nB",
        "67NQN5KX2AMe",
        "Iwf50b-R2tYG",
        "GMQiZwjn3iu7",
        "WVIkgGqN3qsr",
        "XkPnILGE3zoT",
        "Hlsf0x5436Go",
        "mT9DMSJo4nBL",
        "c49ITxTc407N",
        "OeJFEK0N496M",
        "9ExmJH0g5HBk",
        "cJNqERVU536h",
        "k5UmGsbsOxih",
        "T0VqWOYE6DLQ",
        "qBMux9mC6MCf",
        "-oLEiFgy-5Pf",
        "C74aWNz2AliB",
        "2DejudWSA-a0",
        "pEMng2IbBLp7",
        "rAdphbQ9Bhjc",
        "TNVZ9zx19K6k",
        "nqoHp30x9hH9",
        "rMDnDkt2B6du",
        "yiiVWRdJDDil",
        "1UUpS68QDMuG",
        "kexQrXU-DjzY",
        "T5CmagL3EC8N",
        "BhH2vgX9EjGr",
        "qjKvONjwE8ra",
        "P1XJ9OREExlT",
        "VFOzZv6IFROw",
        "TIqpNgepFxVj",
        "VfCC591jGiD4",
        "OB4l2ZhMeS1U",
        "ArJBuiUVfxKd",
        "4qY1EAkEfxKe",
        "PiV4Ypx8fxKe",
        "TfvqoZmBfxKf",
        "dJ2tPlVmpsJ0",
        "JWYfwnehpsJ1",
        "-jK_YjpMpsJ2",
        "HAih1iBOpsJ2",
        "zVGeBEFhpsJ2",
        "bmKjuQ-FpsJ3",
        "Fze-IPXLpx6K",
        "7AN1z2sKpx6M",
        "9PIHJqyupx6M",
        "_-qAgymDpx6N",
        "Z-hykwinpx6N",
        "h_CCil-SKHpo",
        "cBFFvTBNJzUa",
        "HvGl1hHyA_VK",
        "EyNgTHvd2WFk",
        "KH5McJBi2d8v",
        "iW_Lq9qf2h6X",
        "-Kee-DAl2viO",
        "gCX9965dhzqZ",
        "gIfDvo9L0UH2"
      ],
      "include_colab_link": true
    },
    "kernelspec": {
      "name": "python3",
      "display_name": "Python 3"
    },
    "language_info": {
      "name": "python"
    },
    "gpuClass": "standard"
  },
  "cells": [
    {
      "cell_type": "markdown",
      "metadata": {
        "id": "view-in-github",
        "colab_type": "text"
      },
      "source": [
        "<a href=\"https://colab.research.google.com/github/sanjayrawat2468/CapstoneProject2-EDA/blob/main/Capstone_Project_2_EDA_Type.ipynb\" target=\"_parent\"><img src=\"https://colab.research.google.com/assets/colab-badge.svg\" alt=\"Open In Colab\"/></a>"
      ]
    },
    {
      "cell_type": "markdown",
      "source": [
        "# **Project Name**    - **NYC Taxi Trip Time Prediction**\n",
        "\n"
      ],
      "metadata": {
        "id": "vncDsAP0Gaoa"
      }
    },
    {
      "cell_type": "markdown",
      "source": [
        "##### **Project Type**    - EDA\n",
        "##### **Contribution**    - Individual\n",
        "##### **Team Member  -  Sanjay Rawat**\n"
      ],
      "metadata": {
        "id": "beRrZCGUAJYm"
      }
    },
    {
      "cell_type": "markdown",
      "source": [
        "# **Project Summary**"
      ],
      "metadata": {
        "id": "FJNUwmbgGyua"
      }
    },
    {
      "cell_type": "markdown",
      "source": [
        "## **To Explore various attributes and build a Predictive model that predicts the total trip duration of taxi trips in New York City.**\n",
        "\n"
      ],
      "metadata": {
        "id": "F6v_1wHtG2nS"
      }
    },
    {
      "cell_type": "markdown",
      "source": [
        "# **GitHub Link**"
      ],
      "metadata": {
        "id": "w6K7xa23Elo4"
      }
    },
    {
      "cell_type": "markdown",
      "source": [
        "**https://github.com/sanjayrawat2468/CapstoneProject2-EDA/blob/main/Capstone_Project_2_EDA_Type.ipynb**"
      ],
      "metadata": {
        "id": "h1o69JH3Eqqn"
      }
    },
    {
      "cell_type": "markdown",
      "source": [
        "# **Problem Statement**\n"
      ],
      "metadata": {
        "id": "yQaldy8SH6Dl"
      }
    },
    {
      "cell_type": "markdown",
      "source": [
        "## **Your task is to build a model that predicts the total ride duration of taxi trips in New York City. Your primary dataset is one released by the NYC Taxi and Limousine Commission, which includes pickup time, geo-coordinates, number of passengers, and several other variables..**"
      ],
      "metadata": {
        "id": "DpeJGUA3kjGy"
      }
    },
    {
      "cell_type": "markdown",
      "source": [
        "# **Data Description**"
      ],
      "metadata": {
        "id": "kuHnaivhoHmg"
      }
    },
    {
      "cell_type": "markdown",
      "source": [
        "## The dataset is based on the 2016 NYC Yellow Cab trip record data made available in Big Query on Google Cloud Platform. The data was originally published by the NYC Taxi and Limousine Commission (TLC). The data was sampled and cleaned for the purposes of this project. Based on individual trip attributes, you should predict the duration of each trip in the test set.\n",
        "\n",
        "\n",
        "# **Data fields**\n",
        "## **id -** A unique identifier for each trip.\n",
        "## **vendor_id** - A code indicating the provider associated with the trip record.\n",
        "## **pickup_datetime** - Date and time when the meter was engaged.\n",
        "## **dropoff_datetime -** Date and time when the meter was disengaged.\n",
        "## **passenger_count -** The number of passengers in the vehicle. (driver entered value)\n",
        "## **pickup_longitude -** The longitude where the meter was engaged.\n",
        "## **pickup_latitude -** The latitude where the meter was engaged.\n",
        "## **dropoff_longitude -** The longitude where the meter was disengaged.\n",
        "## **dropoff_latitude -** The latitude where the meter was disengaged.\n",
        "## **store_and_fwd_flag -** This flag indicates whether the trip record was held in vehicle memory before sending to the vendor because the vehicle did not have a connection to the server - Y=store and forward; N=not a store and forward trip.\n",
        "## **trip_duration -** Duration of the trip in seconds. (Target variable)\n",
        "\n"
      ],
      "metadata": {
        "id": "B_rr07kQoLhb"
      }
    },
    {
      "cell_type": "markdown",
      "source": [
        "# ***Let's Begin !***"
      ],
      "metadata": {
        "id": "O_i_v8NEhb9l"
      }
    },
    {
      "cell_type": "markdown",
      "source": [
        "# **Import Libraries**"
      ],
      "metadata": {
        "id": "Y3lxredqlCYt"
      }
    },
    {
      "cell_type": "code",
      "source": [
        "# Importing Required Libraries\n",
        "import numpy as np\n",
        "import pandas as pd\n",
        "import seaborn as sns\n",
        "import matplotlib.pyplot as plt\n",
        "import datetime as dt\n",
        "from sklearn.linear_model import LinearRegression\n",
        "from sklearn.ensemble import RandomForestRegressor\n",
        "from xgboost import XGBRegressor\n",
        "from sklearn import metrics\n",
        "from sklearn.model_selection import train_test_split, GridSearchCV\n",
        "import statsmodels.formula.api as sm\n",
        "from sklearn.model_selection import learning_curve\n",
        "from sklearn.model_selection import ShuffleSplit\n",
        "import warnings; warnings.simplefilter('ignore')\n"
      ],
      "metadata": {
        "id": "M8Vqi-pPk-HR"
      },
      "execution_count": null,
      "outputs": []
    },
    {
      "cell_type": "markdown",
      "source": [
        "# **Mount Google Drive**\n"
      ],
      "metadata": {
        "id": "DYfnDwnDplpx"
      }
    },
    {
      "cell_type": "code",
      "source": [
        "# Mounting Drive\n",
        "from google.colab import drive\n",
        "drive.mount('/content/drive')"
      ],
      "metadata": {
        "id": "80XV8L03pqUd"
      },
      "execution_count": null,
      "outputs": []
    },
    {
      "cell_type": "markdown",
      "source": [
        "# **Dataset Loading**"
      ],
      "metadata": {
        "id": "3RnN4peoiCZX"
      }
    },
    {
      "cell_type": "code",
      "source": [
        "# Load Dataset\n",
        "data = pd.read_csv('/content/NYC Taxi Data.csv',on_bad_lines='skip')\n"
      ],
      "metadata": {
        "id": "4CkvbW_SlZ_R"
      },
      "execution_count": null,
      "outputs": []
    },
    {
      "cell_type": "markdown",
      "source": [
        "# **Dataset First View**"
      ],
      "metadata": {
        "id": "x71ZqKXriCWQ"
      }
    },
    {
      "cell_type": "code",
      "source": [
        "# Dataset First Look\n",
        "data.head()"
      ],
      "metadata": {
        "id": "LWNFOSvLl09H"
      },
      "execution_count": null,
      "outputs": []
    },
    {
      "cell_type": "markdown",
      "source": [
        "# **Dataset Rows & Columns count**"
      ],
      "metadata": {
        "id": "7hBIi_osiCS2"
      }
    },
    {
      "cell_type": "code",
      "source": [
        "# Dataset Rows & Columns count\n",
        "print(\"Number of rows is: \", data.shape[0])\n",
        "print(\"Number of columns is: \", data.shape[1])"
      ],
      "metadata": {
        "id": "Kllu7SJgmLij"
      },
      "execution_count": null,
      "outputs": []
    },
    {
      "cell_type": "markdown",
      "source": [
        "# **Dataset Information**"
      ],
      "metadata": {
        "id": "JlHwYmJAmNHm"
      }
    },
    {
      "cell_type": "code",
      "source": [
        "# Dataset Info\n",
        "data.info"
      ],
      "metadata": {
        "id": "e9hRXRi6meOf"
      },
      "execution_count": null,
      "outputs": []
    },
    {
      "cell_type": "code",
      "source": [
        "data.describe()"
      ],
      "metadata": {
        "id": "LJbZAG7irjY7"
      },
      "execution_count": null,
      "outputs": []
    },
    {
      "cell_type": "markdown",
      "source": [
        "# **Duplicate Values**"
      ],
      "metadata": {
        "id": "35m5QtbWiB9F"
      }
    },
    {
      "cell_type": "code",
      "source": [
        "# Dataset Duplicate Value Count\n",
        "data.duplicated().sum()"
      ],
      "metadata": {
        "id": "1sLdpKYkmox0"
      },
      "execution_count": null,
      "outputs": []
    },
    {
      "cell_type": "markdown",
      "source": [
        "# **Missing Values/Null Values**"
      ],
      "metadata": {
        "id": "PoPl-ycgm1ru"
      }
    },
    {
      "cell_type": "code",
      "source": [
        "# Missing Values/Null Values Count\n",
        "data.isnull().sum()"
      ],
      "metadata": {
        "id": "GgHWkxvamxVg"
      },
      "execution_count": null,
      "outputs": []
    },
    {
      "cell_type": "code",
      "source": [
        "data.shape"
      ],
      "metadata": {
        "id": "ZqabWLWxsASD"
      },
      "execution_count": null,
      "outputs": []
    },
    {
      "cell_type": "markdown",
      "source": [
        "# **What did you know about your dataset?**"
      ],
      "metadata": {
        "id": "H0kj-8xxnORC"
      }
    },
    {
      "cell_type": "markdown",
      "source": [
        "**Originally data was containing the 106745 rows and 11 columns but after checking for null values i found that there are some null values i.e neglegible so I dropped them and now dataset having 106744 rows and 11 columns.**"
      ],
      "metadata": {
        "id": "gfoNAAC-nUe_"
      }
    },
    {
      "cell_type": "markdown",
      "source": [
        "# **Understanding Your Variables**"
      ],
      "metadata": {
        "id": "nA9Y7ga8ng1Z"
      }
    },
    {
      "cell_type": "code",
      "source": [
        "# Dataset Columns\n",
        "data.columns"
      ],
      "metadata": {
        "id": "j7xfkqrt5Ag5"
      },
      "execution_count": null,
      "outputs": []
    },
    {
      "cell_type": "markdown",
      "source": [
        "# **Check Unique Values for each variable**"
      ],
      "metadata": {
        "id": "u3PMJOP6ngxN"
      }
    },
    {
      "cell_type": "code",
      "source": [
        "# Check Unique Values for each variable.\n",
        "print( 'We have %d unique id in our dataset ' %(data.id.nunique()))\n",
        "print( 'We have %d unique vendor_id in our dataset ' %(data.vendor_id.nunique()))\n",
        "print( 'We have %d unique pickup_datetime in our dataset ' %(data.pickup_datetime.nunique()))\n",
        "print( 'We have %d unique dropoff_datetime in our dataset ' %(data.dropoff_datetime.nunique()))\n",
        "print( 'We have %d unique passenger_count in our dataset ' %(data.passenger_count.nunique()))\n",
        "print( 'We have %d unique pickup_longitude in our dataset ' %(data.pickup_longitude.nunique()))\n",
        "print( 'We have %d unique pickup_latitude in our dataset ' %(data.pickup_latitude.nunique()))\n",
        "print( 'We have %d unique dropoff_longitude in our dataset ' %(data.dropoff_longitude.nunique()))\n",
        "print( 'We have %d unique dropoff_latitude in our dataset ' %(data.dropoff_latitude.nunique()))\n",
        "print( 'We have %d unique store_and_fwd_flag in our dataset ' %(data.store_and_fwd_flag.nunique()))\n",
        "print( 'We have %d unique trip_duration in our dataset ' %(data.trip_duration.nunique()))\n"
      ],
      "metadata": {
        "id": "zms12Yq5n-jE"
      },
      "execution_count": null,
      "outputs": []
    },
    {
      "cell_type": "code",
      "source": [
        "data.dtypes"
      ],
      "metadata": {
        "id": "Aek0tFmVumwd"
      },
      "execution_count": null,
      "outputs": []
    },
    {
      "cell_type": "markdown",
      "source": [
        "# **Data Wrangling**"
      ],
      "metadata": {
        "id": "dauF4eBmngu3"
      }
    },
    {
      "cell_type": "code",
      "source": [
        "# We have pickup_datetime, dropoff_datetime of the type 'object'. Convert it into type 'datetime'.\n",
        "data['pickup_datetime'] = pd.to_datetime(data['pickup_datetime'],errors = 'coerce')\n",
        "data['dropoff_datetime'] = pd.to_datetime(data['dropoff_datetime'],errors = 'coerce')\n"
      ],
      "metadata": {
        "id": "wk-9a2fpoLcV"
      },
      "execution_count": null,
      "outputs": []
    },
    {
      "cell_type": "code",
      "source": [
        "# let us extract or add some new features from existing ones\n",
        "data['pickup_weekday']=data['pickup_datetime'].dt.day_name()\n",
        "data['dropoff_weekday']=data['dropoff_datetime'].dt.day_name()\n",
        "data['pickup_weekday_num']=data['pickup_datetime'].dt.weekday\n",
        "data['pickup_hour']=data['pickup_datetime'].dt.hour\n",
        "data['month']=data['pickup_datetime'].dt.month"
      ],
      "metadata": {
        "id": "zrLk4lWbfVJi"
      },
      "execution_count": null,
      "outputs": []
    },
    {
      "cell_type": "markdown",
      "source": [
        "**1** - pickup_weekday which will contain the name of the day on which the ride was taken.\n",
        "\n",
        "**2** - pickup_weekday_num which will contain the day number instead of characters with Monday=0 and Sunday=6.\n",
        "\n",
        "**3** - pickup_hour with an hour of the day in the 24-hour format.\n",
        "\n",
        "**4** - pickup_month with month number with January=1 and December=12."
      ],
      "metadata": {
        "id": "RybLXs0owuS-"
      }
    },
    {
      "cell_type": "markdown",
      "source": [
        "**Lets Extract some other features from the dataset as we have columns or features namely longitude and latitude.**"
      ],
      "metadata": {
        "id": "IDsrFb_pyCTq"
      }
    },
    {
      "cell_type": "code",
      "source": [
        "# Importing tha required liberary for\n",
        "from geopy.distance import great_circle"
      ],
      "metadata": {
        "id": "ynqKMTYKyQPe"
      },
      "execution_count": null,
      "outputs": []
    },
    {
      "cell_type": "code",
      "source": [
        "# Lets create a function to get the distance feature from dataset\n",
        "def cal_distance(pickup_lat,pickup_long,dropoff_lat,dropoff_long):\n",
        " \n",
        " start_coordinates=(pickup_lat,pickup_long)\n",
        " stop_coordinates=(dropoff_lat,dropoff_long)\n",
        " \n",
        " return great_circle(start_coordinates,stop_coordinates).km"
      ],
      "metadata": {
        "id": "QOvEQnWAygyK"
      },
      "execution_count": null,
      "outputs": []
    },
    {
      "cell_type": "code",
      "source": [
        "# Treating null values\n",
        "data.dropna(inplace = True)"
      ],
      "metadata": {
        "id": "M8d7a_bwsUdC"
      },
      "execution_count": null,
      "outputs": []
    },
    {
      "cell_type": "code",
      "source": [
        "# Now applying the above function to dataset\n",
        "data['distance'] = data.apply(lambda x: cal_distance(x['pickup_latitude'],x['pickup_longitude'],x['dropoff_latitude'],x['dropoff_longitude'] ), axis=1)"
      ],
      "metadata": {
        "id": "jegKDLXxywX8"
      },
      "execution_count": null,
      "outputs": []
    },
    {
      "cell_type": "code",
      "source": [
        "# Calculating the speed with speed = distance/time formula\n",
        "data['speed'] = (data.distance/(data.trip_duration/3600))"
      ],
      "metadata": {
        "id": "9OsiOv0fz7UU"
      },
      "execution_count": null,
      "outputs": []
    },
    {
      "cell_type": "markdown",
      "source": [
        "**Lets Define the different time segments acording to time as morning after noon and so on**"
      ],
      "metadata": {
        "id": "PQuWcOmh253M"
      }
    },
    {
      "cell_type": "code",
      "source": [
        "# Lets create a function to define different time segments of a day.\n",
        "def time_of_day(x):\n",
        "    if x in range(6,12):\n",
        "        return 'Morning'\n",
        "    elif x in range(12,16):\n",
        "        return 'Afternoon'\n",
        "    elif x in range(16,22):\n",
        "        return 'Evening'\n",
        "    else:\n",
        "        return 'Late night'"
      ],
      "metadata": {
        "id": "8m1Ibvdg3GU0"
      },
      "execution_count": null,
      "outputs": []
    },
    {
      "cell_type": "code",
      "source": [
        "# Applying the above function to the dataset\n",
        "data['pickup_timeofday']=data['pickup_hour'].apply(time_of_day)"
      ],
      "metadata": {
        "id": "2QQ5XuBZ3O4m"
      },
      "execution_count": null,
      "outputs": []
    },
    {
      "cell_type": "markdown",
      "source": [
        "# **Exploratory Data Analysis**"
      ],
      "metadata": {
        "id": "u3tbAKoX3egV"
      }
    },
    {
      "cell_type": "markdown",
      "source": [
        "## **Univariate Analysis**"
      ],
      "metadata": {
        "id": "ex2ZL5xm3op1"
      }
    },
    {
      "cell_type": "code",
      "source": [
        "# Lets find the out the didtribution for the target variable i.e tripduration\n",
        "plt.figure(figsize = (10,5))\n",
        "sns.distplot(data['trip_duration'])\n",
        "plt.xlabel('Trip Duration')\n",
        " \n",
        "plt.show()"
      ],
      "metadata": {
        "id": "bhmaNOpe3slG"
      },
      "execution_count": null,
      "outputs": []
    },
    {
      "cell_type": "markdown",
      "source": [
        "**From the above plot we can see that it is not normally ditributed or right skewed.**"
      ],
      "metadata": {
        "id": "1TfhEGU_-DQw"
      }
    },
    {
      "cell_type": "code",
      "source": [
        "# Applying log tranformation to the target variable\n",
        "plt.figure(figsize = (10,5))\n",
        "sns.distplot(np.log10(data['trip_duration']))\n",
        "plt.xlabel('Trip Duration')\n",
        "plt.show()"
      ],
      "metadata": {
        "id": "dJniaPd4-P4c"
      },
      "execution_count": null,
      "outputs": []
    },
    {
      "cell_type": "markdown",
      "source": [
        "**Now the target variable is normally ditributed.**"
      ],
      "metadata": {
        "id": "g0PMIITk-hMV"
      }
    },
    {
      "cell_type": "code",
      "source": [
        "plt.figure(figsize = (10,5))\n",
        "sns.boxplot(data.trip_duration)\n",
        "plt.xlabel('Trip Duration')\n",
        "plt.show()"
      ],
      "metadata": {
        "id": "uvcpIw3Kvmr7"
      },
      "execution_count": null,
      "outputs": []
    },
    {
      "cell_type": "code",
      "source": [
        "plt.figure(figsize = (10,5))\n",
        "data.trip_duration.groupby(pd.cut(data.trip_duration, np.arange(1,7200,600))).count().plot(kind='bar')\n",
        "plt.xlabel('Trip Counts')\n",
        "plt.ylabel('Trip Duration (seconds)')\n",
        "plt.show()"
      ],
      "metadata": {
        "id": "qxLxZRL7-cWH"
      },
      "execution_count": null,
      "outputs": []
    },
    {
      "cell_type": "code",
      "source": [
        "# Trips done according to different time segments of the day\n",
        "plt.figure(figsize = (10,5))\n",
        "sns.countplot(x=\"pickup_timeofday\",data=data)\n",
        "plt.title('Pickup Time of Day')\n",
        "plt.xlabel('Parts of the Day')\n",
        "plt.ylabel('Count')\n",
        "plt.show()"
      ],
      "metadata": {
        "id": "XTvqum-6y3Ku"
      },
      "execution_count": null,
      "outputs": []
    },
    {
      "cell_type": "markdown",
      "source": [
        "**From the above graph we can clearly see that most of the trips done in the evening segment.**"
      ],
      "metadata": {
        "id": "H7h6WJ2EzQa8"
      }
    },
    {
      "cell_type": "markdown",
      "source": [
        "## **Have Look For Passenger Count**"
      ],
      "metadata": {
        "id": "Dk8dYzU9z6TG"
      }
    },
    {
      "cell_type": "code",
      "source": [
        "plt.figure(figsize = (10,5))\n",
        "sns.countplot(x='passenger_count',data=data)\n",
        "plt.ylabel('Count')\n",
        "plt.xlabel('No.of Passngers')\n",
        "plt.show()"
      ],
      "metadata": {
        "id": "tZC0bghMz_-3"
      },
      "execution_count": null,
      "outputs": []
    },
    {
      "cell_type": "code",
      "source": [
        "# Lets remove the rows with lower passenger counts.\n",
        "data=data[data['passenger_count']!=0]\n",
        "data=data[data['passenger_count']<=6]"
      ],
      "metadata": {
        "id": "Z80NtK110MhV"
      },
      "execution_count": null,
      "outputs": []
    },
    {
      "cell_type": "code",
      "source": [
        "# Re-plotting the above graph\n",
        "plt.figure(figsize = (10,5))\n",
        "sns.countplot(x='passenger_count',data=data)\n",
        "plt.ylabel('Count')\n",
        "plt.xlabel('No.of Passngers')\n",
        "plt.show()"
      ],
      "metadata": {
        "id": "Gwy0Vck70h-m"
      },
      "execution_count": null,
      "outputs": []
    },
    {
      "cell_type": "code",
      "source": [
        "# Plotting the distance over boxplot\n",
        "plt.figure(figsize = (10,5))\n",
        "sns.boxplot(data.distance)\n",
        "\n",
        "plt.ylabel('Distance Travelled')\n",
        "plt.show()"
      ],
      "metadata": {
        "id": "pAgk-rWhAoTE"
      },
      "execution_count": null,
      "outputs": []
    },
    {
      "cell_type": "markdown",
      "source": [
        "**There are some trips with over 100 km distance & some of the trips with 0 km distance.**\n",
        "\n",
        "**These colud be some possible reasons for 0 Km. distance tarvelled**\n",
        "\n",
        "**The dropoff location couldn’t be tracked.**\n",
        "\n",
        "**The passengers or driver cancelled the trip due to some issue.**\n",
        "\n",
        "**Due to some technical issue in software, etc.**"
      ],
      "metadata": {
        "id": "w7RHNmsfBEPw"
      }
    },
    {
      "cell_type": "markdown",
      "source": [
        "# **Bivariate Analysis**"
      ],
      "metadata": {
        "id": "zQwm2ladWj9y"
      }
    },
    {
      "cell_type": "markdown",
      "source": [
        "**Trip Duration per hour**\n",
        "\n"
      ],
      "metadata": {
        "id": "jryk2yqmXtMh"
      }
    },
    {
      "cell_type": "code",
      "source": [
        "plt.figure(figsize = (10,5))\n",
        "sns.lineplot(x='pickup_hour',y='trip_duration',data=data)\n",
        "plt.xlabel('Time of Pickup (24hr format)')\n",
        "plt.ylabel('Duration (seconds)')\n",
        "plt.show()"
      ],
      "metadata": {
        "id": "JmPP4K2YTTRl"
      },
      "execution_count": null,
      "outputs": []
    },
    {
      "cell_type": "markdown",
      "source": [
        "**We see the trip duration is the maximum around 3 pm and trip duration is the lowest around 6 am as streets may not be busy.**"
      ],
      "metadata": {
        "id": "u4DyhnHjaOGc"
      }
    },
    {
      "cell_type": "markdown",
      "source": [
        "**Trip duration per weekday**"
      ],
      "metadata": {
        "id": "hKtzf5MoacPI"
      }
    },
    {
      "cell_type": "code",
      "source": [
        "plt.figure(figsize = (10,5))\n",
        "sns.lineplot(x='pickup_weekday_num',y='trip_duration',data=data)\n",
        "plt.ylabel('Duration (seconds)')\n",
        "plt.xlabel('')\n",
        "plt.show()"
      ],
      "metadata": {
        "id": "mbJXaz8jTdw6"
      },
      "execution_count": null,
      "outputs": []
    },
    {
      "cell_type": "markdown",
      "source": [
        "**Trip duration on thursday is longest among all days.**\n"
      ],
      "metadata": {
        "id": "x3YGULLpaq02"
      }
    },
    {
      "cell_type": "markdown",
      "source": [
        "**Trip duration per month**\n",
        "\n"
      ],
      "metadata": {
        "id": "_aXjQBlqawqx"
      }
    },
    {
      "cell_type": "code",
      "source": [
        "plt.figure(figsize = (10,5))\n",
        "sns.lineplot(x='month',y='trip_duration', data=data)\n",
        "plt.ylabel('Duration (seconds)')\n",
        "plt.xlabel('Month of Trip ')\n",
        "plt.show()"
      ],
      "metadata": {
        "id": "Lo2suAE4az0o"
      },
      "execution_count": null,
      "outputs": []
    },
    {
      "cell_type": "markdown",
      "source": [
        "**Trip distance is lowest in 2nd month and maximum in 5th month.**"
      ],
      "metadata": {
        "id": "u-UCxHxD70b9"
      }
    },
    {
      "cell_type": "markdown",
      "source": [
        "**Distance VS Hour**\n",
        "\n"
      ],
      "metadata": {
        "id": "0J4gmm9UcEty"
      }
    },
    {
      "cell_type": "code",
      "source": [
        "plt.figure(figsize = (10,5))\n",
        "sns.lineplot(y='distance',x='pickup_hour',data=data)\n",
        "plt.ylabel('Distance')\n",
        "plt.xlabel('Pickup Hour')\n",
        "plt.show()"
      ],
      "metadata": {
        "id": "Sumr3ETga_Vf"
      },
      "execution_count": null,
      "outputs": []
    },
    {
      "cell_type": "markdown",
      "source": [
        "**Trip distance is highest during early morning hours & It starts increasing gradually towards the late night hours starting from evening.**"
      ],
      "metadata": {
        "id": "jMEHUqAKcyEa"
      }
    },
    {
      "cell_type": "markdown",
      "source": [
        "**Distance VS Weekday**\n",
        "\n"
      ],
      "metadata": {
        "id": "AUwsb0RO81mi"
      }
    },
    {
      "cell_type": "code",
      "source": [
        "plt.figure(figsize = (10,5))\n",
        "sns.lineplot(x='pickup_weekday_num', y='distance',data=data)\n",
        "plt.ylabel('Distance')\n",
        "plt.xlabel('Pickup Day of the Week')\n",
        "plt.show()"
      ],
      "metadata": {
        "id": "6mstJHKxbvVZ"
      },
      "execution_count": null,
      "outputs": []
    },
    {
      "cell_type": "markdown",
      "source": [
        "# **Feature Engineering**\n"
      ],
      "metadata": {
        "id": "ZhjfJcQ0dSEc"
      }
    },
    {
      "cell_type": "markdown",
      "source": [
        "**One Hot Encoding**\n",
        "\n"
      ],
      "metadata": {
        "id": "FCaWehAShrw1"
      }
    },
    {
      "cell_type": "code",
      "source": [
        "dummy = pd.get_dummies(data.pickup_weekday, prefix='pickup_weekday', drop_first=True)\n",
        "data = pd.concat([data,dummy], axis = 1,)"
      ],
      "metadata": {
        "id": "KRaWWIgQT1YM"
      },
      "execution_count": null,
      "outputs": []
    },
    {
      "cell_type": "code",
      "source": [
        "# Trip duration in hours\n",
        "data['trip_duration_hour']=data['trip_duration']/3600"
      ],
      "metadata": {
        "id": "DFnfqXqhT--9"
      },
      "execution_count": null,
      "outputs": []
    },
    {
      "cell_type": "code",
      "source": [
        "data=data.drop(['id','pickup_datetime', 'dropoff_datetime', 'pickup_weekday', 'dropoff_weekday', 'pickup_weekday_num', 'pickup_timeofday', 'trip_duration', 'speed'], axis=1)\n",
        "data.head()"
      ],
      "metadata": {
        "id": "-NktU1tXUG9Q"
      },
      "execution_count": null,
      "outputs": []
    },
    {
      "cell_type": "markdown",
      "source": [
        "# **Correlation Analysis**"
      ],
      "metadata": {
        "id": "nXZGmhmqiNMt"
      }
    },
    {
      "cell_type": "code",
      "source": [
        "plt.figure (figsize= (20,10))\n",
        "corelation= data.corr()\n",
        "sns.heatmap(abs(corelation), annot=True, cmap='coolwarm')"
      ],
      "metadata": {
        "id": "UjzkyG9rUSAe"
      },
      "execution_count": null,
      "outputs": []
    },
    {
      "cell_type": "code",
      "source": [
        "numeric_features= data.describe().columns"
      ],
      "metadata": {
        "id": "qnlnpy2ciewW"
      },
      "execution_count": null,
      "outputs": []
    },
    {
      "cell_type": "code",
      "source": [
        "features= numeric_features.copy()\n",
        "features= list(features)\n",
        "features= features[:-1]\n",
        "features"
      ],
      "metadata": {
        "id": "8ML0ldi1ijZw"
      },
      "execution_count": null,
      "outputs": []
    },
    {
      "cell_type": "code",
      "source": [
        "from scipy.stats import zscore\n",
        "X = data[features].apply(zscore)[:] "
      ],
      "metadata": {
        "id": "kUV28V0gin_j"
      },
      "execution_count": null,
      "outputs": []
    },
    {
      "cell_type": "code",
      "source": [
        " y= np.log10(data['trip_duration_hour'])[:]"
      ],
      "metadata": {
        "id": "Bqlr1zsgio8x"
      },
      "execution_count": null,
      "outputs": []
    },
    {
      "cell_type": "markdown",
      "source": [
        "# **Splitting the data into train and test sets**\n"
      ],
      "metadata": {
        "id": "nb8jF1ZqEjzr"
      }
    },
    {
      "cell_type": "markdown",
      "source": [
        "**Splitting the data set in 75-25 split for training and testing purpose respectively.**\n",
        "\n"
      ],
      "metadata": {
        "id": "NR7BM5sAEzhc"
      }
    },
    {
      "cell_type": "code",
      "source": [
        "from sklearn.model_selection import train_test_split\n",
        "X_train, X_test, y_train, y_test = train_test_split(X, y, test_size=0.25, random_state=0)"
      ],
      "metadata": {
        "id": "hBoRw5-KE4rx"
      },
      "execution_count": null,
      "outputs": []
    },
    {
      "cell_type": "markdown",
      "source": [
        "**Recurssive Feature Elimination(RFE)**\n",
        "\n",
        "**RFE tries to select the features that are important and eliminates the features that are not important.**\n",
        "\n"
      ],
      "metadata": {
        "id": "CVncVDgwFBOU"
      }
    },
    {
      "cell_type": "code",
      "source": [
        "# Importing RFE\n",
        "from sklearn.feature_selection import RFE\n",
        "from sklearn.linear_model import LinearRegression\n",
        "lm =  LinearRegression()\n",
        "rfe = RFE(lm, n_features_to_select=12)\n",
        "rfe= rfe.fit(X_train, y_train)\n",
        "rfe.support_"
      ],
      "metadata": {
        "id": "PPBUjgZUFOIY"
      },
      "execution_count": null,
      "outputs": []
    },
    {
      "cell_type": "code",
      "source": [
        "# Assigning the rfe features from X_train to col \n",
        "col= X_train.columns[rfe.support_]"
      ],
      "metadata": {
        "id": "HCgkK-zsFfpZ"
      },
      "execution_count": null,
      "outputs": []
    },
    {
      "cell_type": "markdown",
      "source": [
        "# **Building Model** "
      ],
      "metadata": {
        "id": "OZtOmMsPHJDb"
      }
    },
    {
      "cell_type": "markdown",
      "source": [
        "**Assigning remaining features after eliminating unimportant features from X_train.**"
      ],
      "metadata": {
        "id": "NOVhPJD_IpyH"
      }
    },
    {
      "cell_type": "code",
      "source": [
        "X_train_rfe= X_train[col]"
      ],
      "metadata": {
        "id": "fm3ESOF8IugB"
      },
      "execution_count": null,
      "outputs": []
    },
    {
      "cell_type": "code",
      "source": [
        "import statsmodels.api as sm\n",
        "# Adding a constant variable\n",
        "X_train_rfe= sm.add_constant(X_train_rfe)"
      ],
      "metadata": {
        "id": "VHwRQxcJI2Sr"
      },
      "execution_count": null,
      "outputs": []
    },
    {
      "cell_type": "markdown",
      "source": [
        "**Running the Linear Model.**\n",
        "\n"
      ],
      "metadata": {
        "id": "4T41nt-LI7jz"
      }
    },
    {
      "cell_type": "code",
      "source": [
        "lm= sm.OLS(y_train, X_train_rfe).fit()"
      ],
      "metadata": {
        "id": "pAZ_9aO-I605"
      },
      "execution_count": null,
      "outputs": []
    },
    {
      "cell_type": "code",
      "source": [
        "print(lm.summary())"
      ],
      "metadata": {
        "id": "ABQ5hR5XJDf7"
      },
      "execution_count": null,
      "outputs": []
    },
    {
      "cell_type": "markdown",
      "source": [
        "# **Prediction**"
      ],
      "metadata": {
        "id": "GnQFwxmnJOXp"
      }
    },
    {
      "cell_type": "code",
      "source": [
        "y_pred_train= lm.predict(X_train_rfe)"
      ],
      "metadata": {
        "id": "_-X7qy5yJQFR"
      },
      "execution_count": null,
      "outputs": []
    },
    {
      "cell_type": "code",
      "source": [
        "X_test_rfe= X_test[col]\n",
        "# Adding a condtant variable\n",
        "X_test_rfe= sm.add_constant(X_test_rfe)\n",
        "y_pred_test= lm.predict(X_test_rfe)"
      ],
      "metadata": {
        "id": "OTmEQMDBJVbI"
      },
      "execution_count": null,
      "outputs": []
    },
    {
      "cell_type": "markdown",
      "source": [
        "# **Model Evaluation**"
      ],
      "metadata": {
        "id": "1mGbhkVLJaJs"
      }
    },
    {
      "cell_type": "code",
      "source": [
        "from sklearn.metrics import r2_score\n",
        "from sklearn.metrics import mean_squared_error"
      ],
      "metadata": {
        "id": "V00YSJyvJb6P"
      },
      "execution_count": null,
      "outputs": []
    },
    {
      "cell_type": "markdown",
      "source": [
        "**Train**"
      ],
      "metadata": {
        "id": "_RQlPQenJ2Ji"
      }
    },
    {
      "cell_type": "code",
      "source": [
        "lr_train_mse  = mean_squared_error((y_train), (y_pred_train))\n",
        "print(\"Train MSE :\" , lr_train_mse)\n",
        "\n",
        "lr_train_rmse = np.sqrt(lr_train_mse)\n",
        "\n",
        "print(\"Train RMSE :\" ,lr_train_rmse)\n",
        "\n",
        "lr_train_r2 = r2_score((y_train), (y_pred_train))\n",
        "print(\"Train R2 :\" ,lr_train_r2) \n",
        "\n",
        "lr_train_r2_ = 1-(1-r2_score((y_train), (y_pred_train)))*((X_train.shape[0]-1)/(X_train.shape[0]-X_train.shape[1]-1))\n",
        "print(\"Train Adjusted R2 : \",lr_train_r2_)"
      ],
      "metadata": {
        "id": "vfETH8yOJfrd"
      },
      "execution_count": null,
      "outputs": []
    },
    {
      "cell_type": "markdown",
      "source": [
        "**Test**"
      ],
      "metadata": {
        "id": "6D2oiicSJzDl"
      }
    },
    {
      "cell_type": "code",
      "source": [
        "lr_test_mse  = mean_squared_error((y_test), (y_pred_test))\n",
        "print(\"Test MSE :\" , lr_test_mse)\n",
        "\n",
        "lr_test_rmse = np.sqrt(lr_test_mse)\n",
        "\n",
        "print(\"Test RMSE :\" ,lr_test_rmse)\n",
        "\n",
        "lr_test_r2 = r2_score((y_test), (y_pred_test))\n",
        "print(\"Test R2 :\" ,lr_test_r2)\n",
        "\n",
        "lr_test_r2_ = 1-(1-r2_score((y_test), (y_pred_test)))*((X_test.shape[0]-1)/(X_test.shape[0]-X_test.shape[1]-1))\n",
        "print(\"Test Adjusted R2 : \",lr_test_r2_)"
      ],
      "metadata": {
        "id": "DCwDuUW1JqNI"
      },
      "execution_count": null,
      "outputs": []
    },
    {
      "cell_type": "markdown",
      "source": [
        "**As we can clearly see the Linear regression model does not provide us with high accuracy**"
      ],
      "metadata": {
        "id": "9UIvE_1RQa8_"
      }
    },
    {
      "cell_type": "markdown",
      "source": [
        "# **Running Lasso Regression**\n"
      ],
      "metadata": {
        "id": "C26Cwtl1QhQM"
      }
    },
    {
      "cell_type": "code",
      "source": [
        "from sklearn.linear_model import Lasso\n",
        "from sklearn.model_selection import GridSearchCV\n",
        "# Cross validation\n",
        "lasso = Lasso()\n",
        "parameters = {'alpha': [1e-15,1e-13,1e-10,1e-8,1e-5,1e-4,1e-3,1e-2,1e-1,1,5,10,20,30,40,45,50,55,60,100]}\n",
        "lasso_regressor = GridSearchCV(lasso, parameters, scoring='r2', cv=5)\n",
        "lasso_regressor.fit(X_train, y_train)"
      ],
      "metadata": {
        "id": "Lwl9jY9aQjIm"
      },
      "execution_count": null,
      "outputs": []
    },
    {
      "cell_type": "code",
      "source": [
        "print('The best fit alpha value is found out to be :', lasso_regressor.best_params_)\n",
        "print('The R2 score using the same alpha is :', lasso_regressor.best_score_)"
      ],
      "metadata": {
        "id": "ks34wbycQtur"
      },
      "execution_count": null,
      "outputs": []
    },
    {
      "cell_type": "code",
      "source": [
        "lasso_regressor.score(X_train, y_train)"
      ],
      "metadata": {
        "id": "2lUPTHNaQt4l"
      },
      "execution_count": null,
      "outputs": []
    },
    {
      "cell_type": "code",
      "source": [
        "y_pred_lasso_train = lasso_regressor.predict(X_train)\n",
        "y_pred_lasso_test = lasso_regressor.predict(X_test)\n"
      ],
      "metadata": {
        "id": "R4vCdjhRQz6E"
      },
      "execution_count": null,
      "outputs": []
    },
    {
      "cell_type": "markdown",
      "source": [
        "# **Model Evaluation**\n"
      ],
      "metadata": {
        "id": "ocBnSI5wQ7Cg"
      }
    },
    {
      "cell_type": "markdown",
      "source": [
        "**Train**"
      ],
      "metadata": {
        "id": "08mMeiYtRC28"
      }
    },
    {
      "cell_type": "code",
      "source": [
        "lasso_train_mse  = mean_squared_error(y_train, y_pred_lasso_train)\n",
        "print(\"Train MSE :\" , lasso_train_mse)\n",
        "\n",
        "lasso_train_rmse = np.sqrt(lasso_train_mse)\n",
        "print(\"Train RMSE :\" ,lasso_train_rmse)\n",
        "\n",
        "lasso_train_r2 = r2_score(y_train, y_pred_lasso_train)\n",
        "print(\"Train R2 :\" ,lasso_train_r2)\n",
        "\n",
        "lasso_train_r2_= 1-(1-r2_score(y_train, y_pred_lasso_train))*((X_train.shape[0]-1)/(X_train.shape[0]-X_train.shape[1]-1))\n",
        "print(\"Train Adjusted R2 : \", lasso_train_r2)"
      ],
      "metadata": {
        "id": "tnk6RVS1RBcB"
      },
      "execution_count": null,
      "outputs": []
    },
    {
      "cell_type": "markdown",
      "source": [
        "**Test**"
      ],
      "metadata": {
        "id": "NFtwDj48RBu8"
      }
    },
    {
      "cell_type": "code",
      "source": [
        "lasso_test_mse  = mean_squared_error(y_test, y_pred_lasso_test)\n",
        "print(\"Test MSE :\" , lasso_test_mse)\n",
        "\n",
        "lasso_test_rmse = np.sqrt(lasso_test_mse)\n",
        "print(\"Test RMSE :\" ,lasso_test_rmse)\n",
        "\n",
        "lasso_test_r2 = r2_score(y_test, y_pred_lasso_test)\n",
        "print(\"Test R2 :\" ,lasso_test_r2)\n",
        "\n",
        "lasso_test_r2_= 1-(1-r2_score(y_test, y_pred_lasso_test))*((X_test.shape[0]-1)/(X_test.shape[0]-X_test.shape[1]-1))\n",
        "print(\"Test Adjusted R2 : \", lasso_test_r2_)"
      ],
      "metadata": {
        "id": "AKG0VBrtQ8bs"
      },
      "execution_count": null,
      "outputs": []
    },
    {
      "cell_type": "markdown",
      "source": [
        "**Found that the Lasso regresion model doesn't improve on the Linear model either.**\n",
        "\n"
      ],
      "metadata": {
        "id": "KfdWRS_YRUfX"
      }
    },
    {
      "cell_type": "markdown",
      "source": [
        "# **Running Ridge Regression**\n"
      ],
      "metadata": {
        "id": "VOeZvMfzRZB5"
      }
    },
    {
      "cell_type": "code",
      "source": [
        "from sklearn.linear_model import Ridge\n",
        "# Cross validation\n",
        "ridge = Ridge()\n",
        "parameters = {'alpha': [1e-15,1e-13,1e-10,1e-8,1e-5,1e-4,1e-3,1e-2,1e-1,1,5,10,20,30,40,45,50,55,60,100]}\n",
        "ridge_regressor = GridSearchCV(ridge, parameters, scoring='r2', cv=5)\n",
        "ridge_regressor.fit(X_train, y_train)"
      ],
      "metadata": {
        "id": "6ZrxDsQURZNs"
      },
      "execution_count": null,
      "outputs": []
    },
    {
      "cell_type": "code",
      "source": [
        "print('The best fit alpha value is found out to be :' ,ridge_regressor.best_params_)\n",
        "print('The R2 score using the same alpha is :', lasso_regressor.best_score_)"
      ],
      "metadata": {
        "id": "4U1Og2EkRmTS"
      },
      "execution_count": null,
      "outputs": []
    },
    {
      "cell_type": "code",
      "source": [
        "ridge_regressor.score(X_train, y_train)\n"
      ],
      "metadata": {
        "id": "8JCTvdqqRo2N"
      },
      "execution_count": null,
      "outputs": []
    },
    {
      "cell_type": "code",
      "source": [
        "y_pred_ridge_train=ridge_regressor.predict(X_train)\n",
        "y_pred_ridge_test = ridge_regressor.predict(X_test)\n"
      ],
      "metadata": {
        "id": "6guRzkDURskz"
      },
      "execution_count": null,
      "outputs": []
    },
    {
      "cell_type": "markdown",
      "source": [
        "# **Model Evaluation**\n"
      ],
      "metadata": {
        "id": "GXCwy3llRZYI"
      }
    },
    {
      "cell_type": "markdown",
      "source": [
        "**Train**"
      ],
      "metadata": {
        "id": "2K7km5PAR6Il"
      }
    },
    {
      "cell_type": "code",
      "source": [
        "ridge_train_mse  = mean_squared_error(y_train, y_pred_ridge_train)\n",
        "print(\"Train MSE :\" , ridge_train_mse)\n",
        "\n",
        "ridge_train_rmse = np.sqrt(ridge_train_mse)\n",
        "print(\"Train RMSE :\" ,ridge_train_rmse)\n",
        "\n",
        "ridge_train_r2 = r2_score(y_train, y_pred_ridge_train)\n",
        "print(\"Train R2 :\" ,ridge_train_r2)\n",
        "\n",
        "ridge_train_r2_= 1-(1-r2_score(y_train, y_pred_ridge_train))*((X_train.shape[0]-1)/(X_train.shape[0]-X_train.shape[1]-1))\n",
        "print(\"Train Adjusted R2 : \", ridge_train_r2)"
      ],
      "metadata": {
        "id": "_kl5HeiZRZh4"
      },
      "execution_count": null,
      "outputs": []
    },
    {
      "cell_type": "markdown",
      "source": [
        "**Test**"
      ],
      "metadata": {
        "id": "SpBjjcNqR8BN"
      }
    },
    {
      "cell_type": "code",
      "source": [
        "ridge_test_mse  = mean_squared_error(y_test, y_pred_ridge_test)\n",
        "print(\"Test MSE :\" , ridge_test_mse)\n",
        "\n",
        "ridge_test_rmse = np.sqrt(ridge_test_mse)\n",
        "print(\"Test RMSE :\" ,ridge_test_rmse)\n",
        "\n",
        "ridge_test_r2 = r2_score(y_test, y_pred_ridge_test)\n",
        "print(\"Test R2 :\" ,ridge_test_r2)\n",
        "\n",
        "ridge_test_r2_= 1-(1-r2_score(y_test, y_pred_ridge_test))*((X_test.shape[0]-1)/(X_test.shape[0]-X_test.shape[1]-1))\n",
        "print(\"Test Adjusted R2 : \", ridge_test_r2_)"
      ],
      "metadata": {
        "id": "w_iVUmX9R-rc"
      },
      "execution_count": null,
      "outputs": []
    },
    {
      "cell_type": "markdown",
      "source": [
        "**Neither ridge regresion model improve on the Linear model.**\n",
        "\n"
      ],
      "metadata": {
        "id": "PSAG36TASBEQ"
      }
    },
    {
      "cell_type": "markdown",
      "source": [
        "# **Running Decision Tree Regressor**\n"
      ],
      "metadata": {
        "id": "HvGL2HVTSPVI"
      }
    },
    {
      "cell_type": "code",
      "source": [
        "# Importing required liberary\n",
        "from sklearn.tree import DecisionTreeRegressor"
      ],
      "metadata": {
        "id": "2tDhp1SVSAW1"
      },
      "execution_count": null,
      "outputs": []
    },
    {
      "cell_type": "code",
      "source": [
        "# Maximum depth of trees\n",
        "max_depth = [4,6,8,10]\n",
        " \n",
        "# Minimum number of samples required to split a node\n",
        "min_samples_split = [10,20,30]\n",
        " \n",
        "# Minimum number of samples required at each leaf node\n",
        "min_samples_leaf = [8,16,22]\n",
        " \n",
        "# Hyperparameter Grid\n",
        "param_dict_dt = {\n",
        "              'max_depth' : max_depth,\n",
        "              'min_samples_split' : min_samples_split,\n",
        "              'min_samples_leaf' : min_samples_leaf}\n",
        "cache = {\n",
        "              'max_depth' : [10],\n",
        "              'min_samples_split' : [10],\n",
        "              'min_samples_leaf' : [22]}"
      ],
      "metadata": {
        "id": "LQbvWNWJSb4b"
      },
      "execution_count": null,
      "outputs": []
    },
    {
      "cell_type": "code",
      "source": [
        "param_dict_dt\n"
      ],
      "metadata": {
        "id": "tuHzzmYmSmT1"
      },
      "execution_count": null,
      "outputs": []
    },
    {
      "cell_type": "code",
      "source": [
        "dt = DecisionTreeRegressor()\n",
        "\n",
        "# Grid search\n",
        "dt_grid = GridSearchCV(estimator=dt,\n",
        "                       param_grid = cache,\n",
        "                       cv = 5, verbose=2, scoring='r2')\n",
        "\n",
        "dt_grid.fit(X_train,y_train)"
      ],
      "metadata": {
        "id": "JAx1_DtXSqEu"
      },
      "execution_count": null,
      "outputs": []
    },
    {
      "cell_type": "code",
      "source": [
        "dt_grid.best_score_\n"
      ],
      "metadata": {
        "id": "tQp3MOqbSulc"
      },
      "execution_count": null,
      "outputs": []
    },
    {
      "cell_type": "code",
      "source": [
        "dt_grid.best_estimator_\n"
      ],
      "metadata": {
        "id": "ImwyoO-TSxPM"
      },
      "execution_count": null,
      "outputs": []
    },
    {
      "cell_type": "code",
      "source": [
        "y_pred_dt_train=dt_grid.predict(X_train)\n",
        "y_pred_dt_test=dt_grid.predict(X_test)\n"
      ],
      "metadata": {
        "id": "ca1oHVA4S1VY"
      },
      "execution_count": null,
      "outputs": []
    },
    {
      "cell_type": "markdown",
      "source": [
        "# **Model Evaluation**\n"
      ],
      "metadata": {
        "id": "9Plyd_2QS31o"
      }
    },
    {
      "cell_type": "markdown",
      "source": [
        "**Train**"
      ],
      "metadata": {
        "id": "xoEtsJu8TFIy"
      }
    },
    {
      "cell_type": "code",
      "source": [
        "dt_train_mse  = mean_squared_error(y_train, y_pred_dt_train)\n",
        "print(\"Train MSE :\" , dt_train_mse)\n",
        "\n",
        "dt_train_rmse = np.sqrt(dt_train_mse)\n",
        "print(\"Train RMSE :\" ,dt_train_rmse)\n",
        "\n",
        "dt_train_r2 = r2_score(y_train, y_pred_dt_train)\n",
        "print(\"Train R2 :\" ,dt_train_r2)\n",
        "\n",
        "dt_train_r2_= 1-(1-r2_score(y_train, y_pred_dt_train))*((X_train.shape[0]-1)/(X_train.shape[0]-X_train.shape[1]-1))\n",
        "print(\"Train Adjusted R2 : \", dt_train_r2_)"
      ],
      "metadata": {
        "id": "3neMW2qLS94_"
      },
      "execution_count": null,
      "outputs": []
    },
    {
      "cell_type": "markdown",
      "source": [
        "**Test**"
      ],
      "metadata": {
        "id": "DlWnuARMTGvy"
      }
    },
    {
      "cell_type": "code",
      "source": [
        "dt_test_mse  = mean_squared_error(y_test, y_pred_dt_test)\n",
        "print(\"Test MSE :\" , dt_test_mse)\n",
        "dt_test_rmse = np.sqrt(dt_test_mse)\n",
        "print(\"Test RMSE :\" ,dt_test_rmse)\n",
        "\n",
        "dt_test_r2 = r2_score(y_test, y_pred_dt_test)\n",
        "print(\"Test R2 :\" ,dt_test_r2)\n",
        "\n",
        "dt_test_r2_= 1-(1-r2_score(y_test, y_pred_dt_test))*((X_test.shape[0]-1)/(X_test.shape[0]-X_test.shape[1]-1))\n",
        "print(\"Test Adjusted R2 : \", dt_test_r2_)"
      ],
      "metadata": {
        "id": "mrnhJvSNTITU"
      },
      "execution_count": null,
      "outputs": []
    },
    {
      "cell_type": "code",
      "source": [
        "plt.figure(figsize=(10,5))\n",
        "sns.distplot(y_test - y_pred_dt_test )\n",
        "plt.title('Error Term', fontsize=20)\n",
        "plt.show()"
      ],
      "metadata": {
        "id": "ARggzYmmTM4U"
      },
      "execution_count": null,
      "outputs": []
    },
    {
      "cell_type": "markdown",
      "source": [
        "**The decision tree with the selected hyperparameters does improve the predictions of the model considerably. It still isn't ideal but it is certainly much better than Linear models.**"
      ],
      "metadata": {
        "id": "UuFObfQBTS6v"
      }
    },
    {
      "cell_type": "markdown",
      "source": [
        "# **Running XGBoost Regressor**\n"
      ],
      "metadata": {
        "id": "rRMKRIkkTYWb"
      }
    },
    {
      "cell_type": "code",
      "source": [
        "n_estimators = [80,150,200]\n",
        " \n",
        "# Maximum depth of trees\n",
        "max_depth = [5,8,10]\n",
        "min_samples_split = [40,50]\n",
        "learning_rate=[0.2,0.4,0.6]\n",
        " \n",
        "# Hyperparameter Grid\n",
        "param_xgb = {'n_estimators' : n_estimators,\n",
        "              'max_depth' : max_depth,\n",
        "             'min_samples_' : min_samples_split,\n",
        "             'learning_rate' : learning_rate\n",
        "             }\n",
        "cache = {'n_estimators' : [200],\n",
        "              'max_depth' : [8],\n",
        "             'min_samples_' : [40],\n",
        "             'learning_rate' : [0.2],\n",
        "             }"
      ],
      "metadata": {
        "id": "O_i0TNGrTXxy"
      },
      "execution_count": null,
      "outputs": []
    },
    {
      "cell_type": "code",
      "source": [
        "param_xgb\n"
      ],
      "metadata": {
        "id": "oz0MEmhoThtH"
      },
      "execution_count": null,
      "outputs": []
    },
    {
      "cell_type": "code",
      "source": [
        "data.isnull().sum()"
      ],
      "metadata": {
        "id": "tR1yHrx9b0sr"
      },
      "execution_count": null,
      "outputs": []
    },
    {
      "cell_type": "code",
      "source": [
        "import xgboost as xgb\n",
        "xgb_model = xgb.XGBRegressor(tree_method = 'gpu_hist')\n",
        "\n",
        "# Grid search\n",
        "xgb_grid = GridSearchCV(estimator=xgb_model,param_grid=cache,cv=3,verbose=1,scoring=\"r2\")\n",
        "\n",
        "xgb_grid.fit(X_train,y_train)"
      ],
      "metadata": {
        "id": "4_8iT6-DTlKm"
      },
      "execution_count": null,
      "outputs": []
    },
    {
      "cell_type": "code",
      "source": [
        "xgb_grid.best_score_"
      ],
      "metadata": {
        "id": "lE8DlilFOAXL"
      },
      "execution_count": null,
      "outputs": []
    },
    {
      "cell_type": "code",
      "source": [
        "xgb_grid.best_params_"
      ],
      "metadata": {
        "id": "ZXI7UmC5OFDb"
      },
      "execution_count": null,
      "outputs": []
    },
    {
      "cell_type": "code",
      "source": [
        "y_pred_xgb_train=xgb_grid.predict(X_train)\n",
        "y_pred_xgb_test=xgb_grid.predict(X_test)"
      ],
      "metadata": {
        "id": "GGzra54SOHlp"
      },
      "execution_count": null,
      "outputs": []
    },
    {
      "cell_type": "markdown",
      "source": [
        "# **Model Evaluation**\n"
      ],
      "metadata": {
        "id": "-xQEbZ0ZOMR3"
      }
    },
    {
      "cell_type": "markdown",
      "source": [
        "**Train**"
      ],
      "metadata": {
        "id": "yLjZQYS4OP2J"
      }
    },
    {
      "cell_type": "code",
      "source": [
        "xgb_train_mse  = mean_squared_error(y_train, y_pred_xgb_train)\n",
        "print(\"Train MSE :\" , xgb_train_mse)\n",
        "\n",
        "xgb_train_rmse = np.sqrt(xgb_train_mse)\n",
        "print(\"Train RMSE :\" ,xgb_train_rmse)\n",
        "\n",
        "xgb_train_r2 = r2_score(y_train, y_pred_xgb_train)\n",
        "print(\"Train R2 :\" ,xgb_train_r2)\n",
        "\n",
        "xgb_train_r2_= 1-(1-r2_score((y_train), (y_pred_xgb_train)))*((X_train.shape[0]-1)/(X_train.shape[0]-X_train.shape[1]-1))\n",
        "print(\"Train Adjusted R2 : \", xgb_train_r2_)"
      ],
      "metadata": {
        "id": "tqo2CqiDONrs"
      },
      "execution_count": null,
      "outputs": []
    },
    {
      "cell_type": "markdown",
      "source": [
        "**Test**"
      ],
      "metadata": {
        "id": "S1Xu__0xOUO0"
      }
    },
    {
      "cell_type": "code",
      "source": [
        "xgb_test_mse  = mean_squared_error(y_test, y_pred_xgb_test)\n",
        "print(\"Test MSE :\" , xgb_test_mse)\n",
        "\n",
        "xgb_test_rmse = np.sqrt(xgb_test_mse)\n",
        "print(\"Test RMSE :\" ,xgb_test_rmse)\n",
        "\n",
        "xgb_test_r2 = r2_score(y_test, y_pred_xgb_test)\n",
        "print(\"Test R2 :\" ,xgb_test_r2)\n",
        "\n",
        "xgb_test_r2_= 1-(1-r2_score((y_test), (y_pred_xgb_test)))*((X_test.shape[0]-1)/(X_test.shape[0]-X_test.shape[1]-1))\n",
        "print(\"Test Adjusted R2 : \", xgb_test_r2_)"
      ],
      "metadata": {
        "id": "NilSjnDBOUeT"
      },
      "execution_count": null,
      "outputs": []
    },
    {
      "cell_type": "markdown",
      "source": [
        "**Model summary for train data**"
      ],
      "metadata": {
        "id": "T61oPW2tmJN1"
      }
    },
    {
      "cell_type": "code",
      "source": [
        "models= ['Linear Regression', 'Lasso Regression', 'Ridge Regression','DecisionTree Regressor','XGBoost Regressor']\n",
        "train_mse= [lr_train_mse, lasso_train_mse, ridge_train_mse, dt_train_mse, xgb_train_mse]\n",
        "train_rmse= [lr_train_rmse, lasso_train_rmse, ridge_train_rmse, dt_train_rmse, xgb_train_rmse]\n",
        "train_r2= [lr_train_r2, lasso_train_r2, ridge_train_r2, dt_train_r2, xgb_train_r2]\n",
        "train_adjusted_r2= [lr_train_r2_, lasso_train_r2_, ridge_train_r2_, dt_train_r2_, xgb_train_r2_]"
      ],
      "metadata": {
        "id": "h2v6BaSKmLuJ"
      },
      "execution_count": null,
      "outputs": []
    },
    {
      "cell_type": "markdown",
      "source": [
        "**Model summary for test data**"
      ],
      "metadata": {
        "id": "ERWPjaTemS5Z"
      }
    },
    {
      "cell_type": "code",
      "source": [
        "models= ['Linear Regression', 'Lasso Regression', 'Ridge Regression','DecisionTree Regressor','XGBoost Regressor']\n",
        "test_mse= [lr_test_mse, lasso_test_mse, ridge_test_mse, dt_test_mse, xgb_test_mse]\n",
        "test_rmse= [lr_test_rmse, lasso_test_rmse, ridge_test_rmse, dt_test_rmse, xgb_test_rmse]\n",
        "test_r2= [lr_test_r2, lasso_test_r2, ridge_test_r2, dt_test_r2, xgb_test_r2]\n",
        "test_adjusted_r2= [lr_test_r2_, lasso_test_r2_, ridge_test_r2_, dt_test_r2_, xgb_test_r2_]"
      ],
      "metadata": {
        "id": "USNvwmFOmWLw"
      },
      "execution_count": null,
      "outputs": []
    },
    {
      "cell_type": "code",
      "source": [
        "Train_data_df=pd.DataFrame({'Model Name': models, 'Train MSE': train_mse, 'Train RMSE': train_rmse, 'Train R^2': train_r2, \n",
        "                            'Train Adjusted R^2': train_adjusted_r2})\n",
        "Train_data_df"
      ],
      "metadata": {
        "id": "OcGEtIX9mim9"
      },
      "execution_count": null,
      "outputs": []
    },
    {
      "cell_type": "markdown",
      "source": [
        "# **Conclusion**"
      ],
      "metadata": {
        "id": "av7SgSOJmrhB"
      }
    },
    {
      "cell_type": "markdown",
      "source": [
        "**We can see that MSE and RMSE which are the metrics used to evaluate the performance of regression model of Decision Tree and XGBoost Regressor is not varying much during traing and testing time. Also the R^2 is about same during training and Testing time.**\n",
        "\n",
        "**The Linear models don't show good performance on our training and testing environment.**\n",
        "\n",
        "**From above table we can conclude that XGBoost Regressor is the best models as compare to the other models to predict the trip duration for a particular taxi.**"
      ],
      "metadata": {
        "id": "LuHJbBIdmu5V"
      }
    }
  ]
}